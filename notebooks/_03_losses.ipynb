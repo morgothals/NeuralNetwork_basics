{
 "cells": [
  {
   "cell_type": "code",
   "execution_count": 8,
   "id": "5f4e1135",
   "metadata": {},
   "outputs": [],
   "source": [
    "#%% 1. Setup és dinamikus kimeneti dim beállítása\n",
    "import sys, os\n",
    "import numpy as np\n",
    "import pandas as pd\n",
    "from sklearn.model_selection import train_test_split\n",
    "from sklearn.metrics import accuracy_score\n",
    "\n",
    "sys.path.append(os.path.abspath(\"..\"))\n",
    "from complex_mlp.model import ComplexMLP\n",
    "\n",
    "# Adat betöltése\n",
    "data = np.load(\"../data/processed/dataset_preProcessed.npz\")\n",
    "X = data[\"images\"].reshape(len(data[\"images\"]), -1) / 255.0\n",
    "y = data[\"labels\"]\n",
    "\n",
    "# Train/val split\n",
    "X_tr, X_val, y_tr, y_val = train_test_split(\n",
    "    X, y, test_size=0.2, stratify=y, random_state=42\n",
    ")\n",
    "\n",
    "input_dim = X_tr.shape[1]           # pl. 768\n",
    "n_classes = len(np.unique(y_tr))    # pl. 9\n",
    "\n",
    "# Most a layer_sizes utolsó elemét ne 10-re, hanem n_classes-re állítjuk\n",
    "layer_sizes = [input_dim, 512, n_classes]\n",
    "activations = [\"tanh\", \"softmax\"]\n",
    "\n"
   ]
  },
  {
   "cell_type": "code",
   "execution_count": 9,
   "id": "fd971b79",
   "metadata": {},
   "outputs": [],
   "source": [
    "#%% 2. One-hot a megfelelő dim-mal az MSE-hez\n",
    "y_tr_hot  = np.eye(n_classes)[y_tr]    # shape=(N, n_classes)\n",
    "y_val_hot = np.eye(n_classes)[y_val]\n"
   ]
  },
  {
   "cell_type": "code",
   "execution_count": 10,
   "id": "dc7d718e",
   "metadata": {},
   "outputs": [],
   "source": [
    "#%% 3. Loss-konfigurációk, mindkettő ugyanazzal a layer_sizes-szel\n",
    "loss_configs = {\n",
    "    \"cross_entropy\": {\n",
    "        \"loss\":   \"cross_entropy\",\n",
    "        \"y_tr\":   y_tr,\n",
    "        \"y_val\":  y_val\n",
    "    },\n",
    "    \"mse\": {\n",
    "        \"loss\":   \"mse\",\n",
    "        \"y_tr\":   y_tr_hot,\n",
    "        \"y_val\":  y_val_hot\n",
    "    }\n",
    "}\n"
   ]
  },
  {
   "cell_type": "code",
   "execution_count": 11,
   "id": "86f79baa",
   "metadata": {},
   "outputs": [
    {
     "name": "stdout",
     "output_type": "stream",
     "text": [
      "--- Teszt: cross_entropy ---\n",
      "Epoch 1/10  train_loss=0.8321  val_loss=0.7100\n",
      "Epoch 2/10  train_loss=0.6241  val_loss=0.5483\n",
      "Epoch 3/10  train_loss=0.4941  val_loss=0.4489\n",
      "Epoch 4/10  train_loss=0.4188  val_loss=0.3921\n",
      "Epoch 5/10  train_loss=0.3744  val_loss=0.3577\n",
      "Epoch 6/10  train_loss=0.3464  val_loss=0.3347\n",
      "Epoch 7/10  train_loss=0.3278  val_loss=0.3188\n",
      "Epoch 8/10  train_loss=0.3145  val_loss=0.3073\n",
      "Epoch 9/10  train_loss=0.3043  val_loss=0.2991\n",
      "Epoch 10/10  train_loss=0.2965  val_loss=0.2932\n",
      "cross_entropy → val_accuracy = 0.8994\n",
      "\n",
      "--- Teszt: mse ---\n",
      "Epoch 1/10  train_loss=0.0376  val_loss=0.0289\n",
      "Epoch 2/10  train_loss=0.0238  val_loss=0.0200\n",
      "Epoch 3/10  train_loss=0.0188  val_loss=0.0177\n",
      "Epoch 4/10  train_loss=0.0171  val_loss=0.0163\n",
      "Epoch 5/10  train_loss=0.0162  val_loss=0.0156\n",
      "Epoch 6/10  train_loss=0.0157  val_loss=0.0156\n",
      "Epoch 7/10  train_loss=0.0154  val_loss=0.0150\n",
      "Epoch 8/10  train_loss=0.0152  val_loss=0.0147\n",
      "Epoch 9/10  train_loss=0.0150  val_loss=0.0148\n",
      "Epoch 10/10  train_loss=0.0148  val_loss=0.0146\n",
      "mse → val_accuracy = 0.9071\n",
      "\n"
     ]
    },
    {
     "data": {
      "text/html": [
       "<div>\n",
       "<style scoped>\n",
       "    .dataframe tbody tr th:only-of-type {\n",
       "        vertical-align: middle;\n",
       "    }\n",
       "\n",
       "    .dataframe tbody tr th {\n",
       "        vertical-align: top;\n",
       "    }\n",
       "\n",
       "    .dataframe thead th {\n",
       "        text-align: right;\n",
       "    }\n",
       "</style>\n",
       "<table border=\"1\" class=\"dataframe\">\n",
       "  <thead>\n",
       "    <tr style=\"text-align: right;\">\n",
       "      <th></th>\n",
       "      <th>loss</th>\n",
       "      <th>val_accuracy</th>\n",
       "    </tr>\n",
       "  </thead>\n",
       "  <tbody>\n",
       "    <tr>\n",
       "      <th>1</th>\n",
       "      <td>mse</td>\n",
       "      <td>0.907104</td>\n",
       "    </tr>\n",
       "    <tr>\n",
       "      <th>0</th>\n",
       "      <td>cross_entropy</td>\n",
       "      <td>0.899350</td>\n",
       "    </tr>\n",
       "  </tbody>\n",
       "</table>\n",
       "</div>"
      ],
      "text/plain": [
       "            loss  val_accuracy\n",
       "1            mse      0.907104\n",
       "0  cross_entropy      0.899350"
      ]
     },
     "metadata": {},
     "output_type": "display_data"
    }
   ],
   "source": [
    "#%% 4. Tesztciklus\n",
    "results = []\n",
    "for name, cfg in loss_configs.items():\n",
    "    print(f\"--- Teszt: {name} ---\")\n",
    "    model = ComplexMLP(\n",
    "        layer_sizes=layer_sizes,\n",
    "        activations=activations,\n",
    "        loss=cfg[\"loss\"],\n",
    "        optimizer=\"sgd\",\n",
    "        optimizer_kwargs={\"lr\":0.001},\n",
    "        early_stopping=False\n",
    "    )\n",
    "    history = model.train(\n",
    "        X_train=X_tr, y_train=cfg[\"y_tr\"],\n",
    "        X_val=X_val,   y_val=cfg[\"y_val\"],\n",
    "        epochs=10, batch_size=32\n",
    "    )\n",
    "    y_pred = model.predict(X_val)\n",
    "    acc = accuracy_score(y_val, y_pred)\n",
    "    print(f\"{name} → val_accuracy = {acc:.4f}\\n\")\n",
    "    results.append({\"loss\": name, \"val_accuracy\": acc})\n",
    "\n",
    "df = pd.DataFrame(results).sort_values(\"val_accuracy\", ascending=False)\n",
    "display(df)\n",
    "\n"
   ]
  },
  {
   "cell_type": "code",
   "execution_count": 12,
   "id": "bd555da1",
   "metadata": {},
   "outputs": [
    {
     "data": {
      "image/png": "[encoded data removed]",
      "text/plain": [
       "<Figure size 600x400 with 1 Axes>"
      ]
     },
     "metadata": {},
     "output_type": "display_data"
    }
   ],
   "source": [
    "#%% 5. Eredmények ábrázolása\n",
    "import matplotlib.pyplot as plt\n",
    "\n",
    "plt.figure(figsize=(6,4))\n",
    "plt.bar(df[\"loss\"], df[\"val_accuracy\"])\n",
    "plt.xlabel(\"Loss-függvény\")\n",
    "plt.ylabel(\"Validation accuracy\")\n",
    "plt.title(\"Loss-ek összehasonlítása (10 epoch)\")\n",
    "plt.ylim(0,1)\n",
    "plt.show()\n"
   ]
  }
 ],
 "metadata": {
  "kernelspec": {
   "display_name": "simplemapmlp-env",
   "language": "python",
   "name": "python3"
  },
  "language_info": {
   "codemirror_mode": {
    "name": "ipython",
    "version": 3
   },
   "file_extension": ".py",
   "mimetype": "text/x-python",
   "name": "python",
   "nbconvert_exporter": "python",
   "pygments_lexer": "ipython3",
   "version": "3.9.13"
  }
 },
 "nbformat": 4,
 "nbformat_minor": 5
}
